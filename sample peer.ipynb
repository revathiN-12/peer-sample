{
 "cells": [
  {
   "cell_type": "markdown",
   "id": "b78c8694-bc70-4578-a06f-b600fa9948f6",
   "metadata": {},
   "source": [
    "#My Jupyter Note Book on IBM Watson Studio"
   ]
  },
  {
   "cell_type": "markdown",
   "id": "7d811559-f2a2-41d3-b5f3-0d6a91e54795",
   "metadata": {},
   "source": [
    "**Revathi Nallasamy**\n",
    "\n",
    "Data Analyst"
   ]
  },
  {
   "cell_type": "markdown",
   "id": "e7f39eb7-aa4c-4862-82a3-82bd797f26b6",
   "metadata": {},
   "source": [
    "*I am interested in Data Science because I like to explore and analyze the data*"
   ]
  },
  {
   "cell_type": "markdown",
   "id": "45c8bb4e-ec27-4787-9efe-3a038389e6b8",
   "metadata": {},
   "source": [
    "###Arithmetic Operation"
   ]
  },
  {
   "cell_type": "code",
   "execution_count": 10,
   "id": "17c6fbfd-3407-4737-8735-d8ee20f34452",
   "metadata": {},
   "outputs": [
    {
     "data": {
      "text/plain": [
       "25.0"
      ]
     },
     "execution_count": 10,
     "metadata": {},
     "output_type": "execute_result"
    }
   ],
   "source": [
    "(100+25)/5"
   ]
  },
  {
   "cell_type": "markdown",
   "id": "ccfa7905-b5e5-4695-b7d8-6f0d070ede56",
   "metadata": {},
   "source": [
    "----"
   ]
  },
  {
   "cell_type": "markdown",
   "id": "bdb4c09b-771a-4e2d-9acd-e038e4bd45d5",
   "metadata": {},
   "source": [
    "Bulleted list"
   ]
  },
  {
   "cell_type": "markdown",
   "id": "d997c109-4273-4b7f-b9ec-58107e4cfcd3",
   "metadata": {},
   "source": [
    "- One\n",
    "- Two\n",
    "- Three\n",
    "- Four\n",
    "- Five"
   ]
  },
  {
   "cell_type": "markdown",
   "id": "be98ebd0-39f5-4391-b60c-ec4a4a17afe4",
   "metadata": {},
   "source": [
    "Numbered list"
   ]
  },
  {
   "cell_type": "markdown",
   "id": "cb97a637-0c37-499d-83c9-ed9499874f3e",
   "metadata": {},
   "source": [
    "1. Employee Name\n",
    "2. Age\n",
    "3. Employee ID"
   ]
  },
  {
   "cell_type": "markdown",
   "id": "30bf3fab-4d98-4584-a060-4ba3150ac5bb",
   "metadata": {},
   "source": [
    "Add Table"
   ]
  },
  {
   "cell_type": "markdown",
   "id": "2a204180-e9c5-4ac3-81ec-a7791b0cc731",
   "metadata": {},
   "source": [
    "|Employee Name|Employee ID|Age|\n",
    "|-------------|-----------|---|\n",
    "|Jennifer|101|26|\n",
    "|Max|102|29|\n",
    "|Jack|103|27|\n",
    "|John|104|27|"
   ]
  },
  {
   "cell_type": "markdown",
   "id": "7163d916-569b-4dbe-8e49-76d650de4e4f",
   "metadata": {},
   "source": [
    "Adding Hyperlink"
   ]
  },
  {
   "cell_type": "markdown",
   "id": "d7ff724c-ec21-471e-bf97-7a76729c2aa6",
   "metadata": {},
   "source": [
    "http://www.google.com"
   ]
  },
  {
   "cell_type": "code",
   "execution_count": null,
   "id": "380c07a4-ef23-42c2-b60d-a6f045198296",
   "metadata": {},
   "outputs": [],
   "source": []
  }
 ],
 "metadata": {
  "kernelspec": {
   "display_name": "Python",
   "language": "python",
   "name": "conda-env-python-py"
  },
  "language_info": {
   "codemirror_mode": {
    "name": "ipython",
    "version": 3
   },
   "file_extension": ".py",
   "mimetype": "text/x-python",
   "name": "python",
   "nbconvert_exporter": "python",
   "pygments_lexer": "ipython3",
   "version": "3.7.12"
  }
 },
 "nbformat": 4,
 "nbformat_minor": 5
}
